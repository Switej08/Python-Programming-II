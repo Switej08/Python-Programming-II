{
  "nbformat": 4,
  "nbformat_minor": 0,
  "metadata": {
    "colab": {
      "provenance": [],
      "include_colab_link": true
    },
    "kernelspec": {
      "name": "ir",
      "display_name": "R"
    },
    "language_info": {
      "name": "R"
    }
  },
  "cells": [
    {
      "cell_type": "markdown",
      "metadata": {
        "id": "view-in-github",
        "colab_type": "text"
      },
      "source": [
        "<a href=\"https://colab.research.google.com/github/Switej08/Python-Programming-II/blob/main/Another_copy_of_DISEASE_PREDICTION.ipynb\" target=\"_parent\"><img src=\"https://colab.research.google.com/assets/colab-badge.svg\" alt=\"Open In Colab\"/></a>"
      ]
    },
    {
      "cell_type": "code",
      "source": [
        "in install.packages(\"tidymodels\")\n"
      ],
      "metadata": {
        "colab": {
          "base_uri": "https://localhost:8080/",
          "height": 106
        },
        "id": "-YbjYpri247A",
        "outputId": "4b920701-86d6-4f69-d55b-e4c71169a1cf"
      },
      "execution_count": null,
      "outputs": [
        {
          "output_type": "error",
          "ename": "ERROR",
          "evalue": "Error in parse(text = x, srcfile = src): <text>:1:1: unexpected 'in'\n1: in\n    ^\n",
          "traceback": [
            "Error in parse(text = x, srcfile = src): <text>:1:1: unexpected 'in'\n1: in\n    ^\nTraceback:\n"
          ]
        }
      ]
    },
    {
      "cell_type": "code",
      "source": [
        "##loading important packages\n",
        "library(tidymodels)\n",
        "library(tidyverse)\n",
        "library(tune)\n",
        "library(workflows)\n",
        "\n",
        "##reading the data into R\n",
        "dat <- read.csv('heart.csv')\n",
        "\n",
        "dat[,\"target\"] <- as.factor(dat[,\"target\"])\n",
        "\n",
        "##taking a look at the data\n",
        "glimpse(dat)\n",
        "head(dat)\n",
        "\n",
        "##creating histograms to view variable distribution\n",
        "for (i in 1:(ncol(dat)-1)) {\n",
        "  print(ggplot(dat) +\n",
        "          geom_histogram(aes(dat[,i]))+\n",
        "          xlab(colnames(dat)[i]))\n",
        "}\n",
        "\n",
        "##creating violin plots to see differences in distribution for the target outcomes\n",
        "for (i in 1:(ncol(dat)-1)) {\n",
        "  print(ggplot(dat) +\n",
        "          geom_violin(aes(dat[,i], target))+\n",
        "          xlab(colnames(dat)[i]))\n",
        "}\n",
        "\n",
        "##splitting the data up into training and test sets\n",
        "set.seed(123)\n",
        "split_dat <- initial_split(dat)\n",
        "train_dat <- training(split_dat)\n",
        "test_dat <- testing(split_dat)\n",
        "\n",
        "split_dat\n",
        "\n",
        "##creating a cross validated version of the training set to tune parameters\n",
        "dat_cv <- vfold_cv(train_dat)\n",
        "\n",
        "rand_for_recipe <-\n",
        "  recipe(target ~ ., data = dat) %>%\n",
        "  step_normalize(all_numeric())\n",
        "\n",
        "##specifying the use of a random forest model\n",
        "rand_for_model <- rand_forest() %>%\n",
        "##specifying that we will be tuning mtry\n",
        "##(number of variables that can be split on at each tree node)\n",
        "  set_args(mtry = tune()) %>%\n",
        "##specifying the engine and the mode of variable importance\n",
        "  set_engine(\"ranger\", importance = \"impurity\") %>%\n",
        "##selecting the mode, for ranger the options are \"classification\" and \"regression\"\n",
        "  set_mode(\"classification\")\n",
        "\n",
        "##adding the the recipe and model to a workflow\n",
        "rand_for_workflow <-\n",
        "  workflow() %>%\n",
        "  add_recipe(rand_for_recipe) %>%\n",
        "  add_model(rand_for_model)\n",
        "\n",
        "##creating a dataframe of mtry values to test\n",
        "rand_for_tune_grid <- expand_grid(mtry = c(2,3,4,5))\n",
        "##calculating the tune results\n",
        "rand_for_tune_results <- rand_for_workflow %>%\n",
        "  tune_grid(resamples = dat_cv,\n",
        "            grid = rand_for_tune_grid,\n",
        "            ##selecting relevent metrics to assess fit\n",
        "            metrics = metric_set(roc_auc, accuracy))\n",
        "\n",
        "##displaying the results\n",
        "collect_metrics(rand_for_tune_results)\n",
        "\n",
        "##using select_best() to choose the mtry value with the best auc\n",
        "rand_for_final <-\n",
        "  rand_for_tune_results %>%\n",
        "  select_best(metric = \"roc_auc\")\n",
        "\n",
        "##adding the final(tuned) parameter to the workflow to finalize\n",
        "rand_for_workflow <-\n",
        "  rand_for_workflow %>%\n",
        "  finalize_workflow(rand_for_final)\n",
        "\n",
        "##using last_fit to fit the model on the training set, and evaluate it on the test set\n",
        "rand_for_fit <-\n",
        "  last_fit(rand_for_workflow, split_dat)\n",
        "\n",
        "rand_for_fit\n",
        "\n",
        "##collecting metrics to evaluate the model\n",
        "collect_metrics(rand_for_fit)\n",
        "\n",
        "##collecting the model's prediction for each patient\n",
        "model_predictions <-\n",
        "  collect_predictions(rand_for_fit)\n",
        "\n",
        "##returning a confusion matrix of the model's predictions and actual results\n",
        "model_predictions %>%\n",
        "  conf_mat(target, .pred_class)\n",
        "\n",
        "##fiting the model on entire dataset to evaluation of future data\n",
        "final_model <-\n",
        "  fit(rand_for_workflow, dat)\n",
        "\n",
        "##extracting the fit object\n",
        "model_obj <-\n",
        "  pull_workflow_fit(final_model)$fit\n",
        "\n",
        "model_obj\n",
        "\n",
        "##examining variable importance\n",
        "model_obj$variable.importance"
      ],
      "metadata": {
        "colab": {
          "base_uri": "https://localhost:8080/",
          "height": 106
        },
        "id": "3rSBQeDq6ZLx",
        "outputId": "a3ab0f76-fee0-4da6-9c3b-9ba9aea4b2f5"
      },
      "execution_count": null,
      "outputs": [
        {
          "output_type": "error",
          "ename": "ERROR",
          "evalue": "Error in library(tidymodels): there is no package called ‘tidymodels’\n",
          "traceback": [
            "Error in library(tidymodels): there is no package called ‘tidymodels’\nTraceback:\n",
            "1. library(tidymodels)"
          ]
        }
      ]
    },
    {
      "cell_type": "markdown",
      "source": [],
      "metadata": {
        "id": "sA9RUB9bBO53"
      }
    },
    {
      "cell_type": "code",
      "source": [],
      "metadata": {
        "id": "uW25w2ypBPmX"
      },
      "execution_count": null,
      "outputs": []
    },
    {
      "cell_type": "code",
      "source": [
        "# Fit the workflow on the training data\n",
        "final_model <- fit(rand_for_workflow, data = train_dat)\n",
        "\n",
        "# Predictions on the test set\n",
        "predictions <- predict(final_model, new_data = test_dat)\n",
        "\n",
        "# Display the predictions\n",
        "head(predictions)\n",
        "\n",
        "\n"
      ],
      "metadata": {
        "colab": {
          "base_uri": "https://localhost:8080/",
          "height": 286
        },
        "id": "FtJgkoJC83KV",
        "outputId": "b0cc7860-541f-4b04-cebe-b93bdc5ebdd6"
      },
      "execution_count": null,
      "outputs": [
        {
          "output_type": "display_data",
          "data": {
            "text/html": [
              "<table class=\"dataframe\">\n",
              "<caption>A tibble: 6 × 1</caption>\n",
              "<thead>\n",
              "\t<tr><th scope=col>.pred_class</th></tr>\n",
              "\t<tr><th scope=col>&lt;fct&gt;</th></tr>\n",
              "</thead>\n",
              "<tbody>\n",
              "\t<tr><td>1</td></tr>\n",
              "\t<tr><td>1</td></tr>\n",
              "\t<tr><td>1</td></tr>\n",
              "\t<tr><td>1</td></tr>\n",
              "\t<tr><td>0</td></tr>\n",
              "\t<tr><td>1</td></tr>\n",
              "</tbody>\n",
              "</table>\n"
            ],
            "text/markdown": "\nA tibble: 6 × 1\n\n| .pred_class &lt;fct&gt; |\n|---|\n| 1 |\n| 1 |\n| 1 |\n| 1 |\n| 0 |\n| 1 |\n\n",
            "text/latex": "A tibble: 6 × 1\n\\begin{tabular}{l}\n .pred\\_class\\\\\n <fct>\\\\\n\\hline\n\t 1\\\\\n\t 1\\\\\n\t 1\\\\\n\t 1\\\\\n\t 0\\\\\n\t 1\\\\\n\\end{tabular}\n",
            "text/plain": [
              "  .pred_class\n",
              "1 1          \n",
              "2 1          \n",
              "3 1          \n",
              "4 1          \n",
              "5 0          \n",
              "6 1          "
            ]
          },
          "metadata": {}
        }
      ]
    },
    {
      "cell_type": "code",
      "source": [
        "install.packages(\"ranger\")\n"
      ],
      "metadata": {
        "id": "97Q9kmB361XE",
        "colab": {
          "base_uri": "https://localhost:8080/"
        },
        "outputId": "5e1c2b76-1e09-477f-9a17-7bc1cbf593f4"
      },
      "execution_count": null,
      "outputs": [
        {
          "output_type": "stream",
          "name": "stderr",
          "text": [
            "Installing package into ‘/usr/local/lib/R/site-library’\n",
            "(as ‘lib’ is unspecified)\n",
            "\n",
            "also installing the dependencies ‘Rcpp’, ‘RcppEigen’\n",
            "\n",
            "\n"
          ]
        }
      ]
    }
  ]
}